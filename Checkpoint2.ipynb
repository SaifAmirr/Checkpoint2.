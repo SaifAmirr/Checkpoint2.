{
 "cells": [
  {
   "cell_type": "code",
   "execution_count": 2,
   "id": "1ea183b4",
   "metadata": {},
   "outputs": [
    {
     "name": "stdout",
     "output_type": "stream",
     "text": [
      "300\n",
      "There will be a 30% discount\n"
     ]
    }
   ],
   "source": [
    "#Question7\n",
    "x=int(input())\n",
    "if (x>=500):\n",
    "    print(\"There will be a 50% discount\")\n",
    "elif (200<=x<500): \n",
    "    print(\"There will be a 30% discount\")\n",
    "elif (x<200):\n",
    "    print(\"There will be a 10% discount\")\n",
    "    \n",
    "    "
   ]
  },
  {
   "cell_type": "code",
   "execution_count": 20,
   "id": "a418b4ca",
   "metadata": {},
   "outputs": [
    {
     "name": "stdout",
     "output_type": "stream",
     "text": [
      "5\n",
      "615\n"
     ]
    }
   ],
   "source": [
    "#Question2\n",
    "n=int(input())\n",
    "result = n + (n * 10 + n) + (n * 100 + n * 10 + n)\n",
    "print(result)"
   ]
  },
  {
   "cell_type": "code",
   "execution_count": 19,
   "id": "10580ab5",
   "metadata": {},
   "outputs": [
    {
     "name": "stdout",
     "output_type": "stream",
     "text": [
      "Hello team\n",
      "Hlota\n"
     ]
    }
   ],
   "source": [
    "#Question 6\n",
    "string = input( )\n",
    "result = \"\"\n",
    "i = 0\n",
    "while i < len(string):\n",
    "    if i % 2 == 0:\n",
    "        result = result + string[i]\n",
    "    i = i + 1\n",
    "print(result)\n",
    "\n"
   ]
  },
  {
   "cell_type": "code",
   "execution_count": 25,
   "id": "64dff914",
   "metadata": {},
   "outputs": [
    {
     "name": "stdout",
     "output_type": "stream",
     "text": [
      "137\n",
      "This number is odd!\n"
     ]
    }
   ],
   "source": [
    "#Question 3\n",
    "x=int(input())\n",
    "if (x % 2 ==1):\n",
    "    print(\"This number is odd!\")\n",
    "else:\n",
    "    print(\"This number is even!\")"
   ]
  },
  {
   "cell_type": "code",
   "execution_count": 40,
   "id": "a13448cc",
   "metadata": {},
   "outputs": [
    {
     "name": "stdout",
     "output_type": "stream",
     "text": [
      "8\n",
      "40320\n"
     ]
    }
   ],
   "source": [
    "#Question5\n",
    "n=int(input())\n",
    "result = 1 \n",
    "while (n>1):\n",
    "    result = result * n\n",
    "    n=n-1\n",
    "print(result)    "
   ]
  },
  {
   "cell_type": "code",
   "execution_count": 53,
   "id": "0813afbe",
   "metadata": {},
   "outputs": [
    {
     "name": "stdout",
     "output_type": "stream",
     "text": [
      "2303\n",
      "2317\n",
      "2324\n",
      "2331\n",
      "2338\n",
      "2352\n",
      "2359\n",
      "2366\n",
      "2373\n",
      "2387\n",
      "2394\n",
      "2401\n",
      "2408\n",
      "2422\n",
      "2429\n",
      "2436\n",
      "2443\n",
      "2457\n",
      "2464\n",
      "2471\n",
      "2478\n",
      "2492\n",
      "2499\n",
      "2506\n",
      "2513\n",
      "2527\n",
      "2534\n",
      "2541\n",
      "2548\n",
      "2562\n",
      "2569\n",
      "2576\n",
      "2583\n",
      "2597\n",
      "2604\n",
      "2611\n",
      "2618\n",
      "2632\n",
      "2639\n",
      "2646\n",
      "2653\n",
      "2667\n",
      "2674\n",
      "2681\n",
      "2688\n",
      "2702\n",
      "2709\n",
      "2716\n",
      "2723\n",
      "2737\n",
      "2744\n",
      "2751\n",
      "2758\n",
      "2772\n",
      "2779\n",
      "2786\n",
      "2793\n",
      "2807\n",
      "2814\n",
      "2821\n",
      "2828\n",
      "2842\n",
      "2849\n",
      "2856\n",
      "2863\n",
      "2877\n",
      "2884\n",
      "2891\n",
      "2898\n",
      "2912\n",
      "2919\n",
      "2926\n",
      "2933\n",
      "2947\n",
      "2954\n",
      "2961\n",
      "2968\n",
      "2982\n",
      "2989\n",
      "2996\n",
      "3003\n",
      "3017\n",
      "3024\n",
      "3031\n",
      "3038\n",
      "3052\n",
      "3059\n",
      "3066\n",
      "3073\n",
      "3087\n",
      "3094\n",
      "3101\n",
      "3108\n",
      "3122\n",
      "3129\n",
      "3136\n",
      "3143\n",
      "3157\n",
      "3164\n",
      "3171\n",
      "3178\n",
      "3192\n",
      "3199\n"
     ]
    }
   ],
   "source": [
    "#Question 4 \n",
    "for x in range(2300,3201):\n",
    "    if (x % 7 == 0):\n",
    "        if (x % 5 != 0):\n",
    "            print(x)\n",
    "            \n",
    "\n",
    "        \n"
   ]
  },
  {
   "cell_type": "code",
   "execution_count": 52,
   "id": "42cd3ab1",
   "metadata": {},
   "outputs": [
    {
     "name": "stdout",
     "output_type": "stream",
     "text": [
      "Saif Amir\n",
      "rimA fiaS\n"
     ]
    }
   ],
   "source": [
    "#Question 1 \n",
    "def myfunction(x):\n",
    "    return x[::-1]\n",
    "mytxt = myfunction(input())\n",
    "print(mytxt)\n",
    "\n",
    "\n",
    "\n"
   ]
  },
  {
   "cell_type": "code",
   "execution_count": null,
   "id": "376b40d3",
   "metadata": {},
   "outputs": [],
   "source": []
  },
  {
   "cell_type": "code",
   "execution_count": null,
   "id": "f3bc44ae",
   "metadata": {},
   "outputs": [],
   "source": []
  }
 ],
 "metadata": {
  "kernelspec": {
   "display_name": "Python 3 (ipykernel)",
   "language": "python",
   "name": "python3"
  },
  "language_info": {
   "codemirror_mode": {
    "name": "ipython",
    "version": 3
   },
   "file_extension": ".py",
   "mimetype": "text/x-python",
   "name": "python",
   "nbconvert_exporter": "python",
   "pygments_lexer": "ipython3",
   "version": "3.9.7"
  }
 },
 "nbformat": 4,
 "nbformat_minor": 5
}
